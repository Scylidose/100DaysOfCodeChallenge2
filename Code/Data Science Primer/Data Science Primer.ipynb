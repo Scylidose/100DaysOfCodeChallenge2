{
 "cells": [
  {
   "cell_type": "markdown",
   "metadata": {},
   "source": [
    "# Data Science Primer"
   ]
  },
  {
   "cell_type": "code",
   "execution_count": 2,
   "metadata": {},
   "outputs": [],
   "source": [
    "import pandas as pd\n",
    "\n",
    "dataset = pd.read_csv(\"https://gist.githubusercontent.com/netj/8836201/raw/6f9306ad21398ea43cba4f7d537619d0e07d5ae3/iris.csv\")"
   ]
  },
  {
   "cell_type": "markdown",
   "metadata": {},
   "source": [
    "# Chapter 1 - Bird's Eye View\n",
    "**Machine Learning is not about algorithms, it's a comprehensive approach to solving problems.**  \n",
    "\n",
    "Machine Learning is the practive of **teaching** computers how to learn patterns from data, often making **decisions or predictions**.  \n",
    "\n",
    "## Key Terminology\n",
    "**Model :** A set of patterns learned from data  \n",
    "**Algorithm :** A spectific Machine Learning process used to train a model  \n",
    "**Training data :** The dataset from which the *algorithm learns the model*  \n",
    "**Test data :** A new dataset for reliably evaluating model performance  \n",
    "**Features :** Variables (or columns) in a dataset used to train the model  \n",
    "**Observations :** Data points (or rows) in the dataset  \n",
    "**Target variables :** A specific variable you're trying to predict  \n",
    "\n",
    "## Machine Learning Tasks\n",
    "- A **task** is a specific objective for your algorithms\n",
    "- Algorithms can be swapped in and out, as long as you pick the right task\n",
    "- **Always try multiple algorithms**\n",
    "\n",
    "### Supervised Learning\n",
    "Includes tasks for **labeled** data (with a *target variable*)  \n",
    "- Often used as an advanced form of predictive modeling  \n",
    "- Each observation must be **labeled** with a *correct answer*  \n",
    "- Build a predictive model, and tell it what's *correct* while training it  \n",
    "\n",
    "#### Regression\n",
    "Task for modeling **continuous** target variables\n",
    "#### Classification \n",
    "Task for modeling **categorical** target variables\n",
    "\n",
    "### Unsupervised Learning\n",
    "Includes tasks for **unlabeled** data (without *target variable*)  \n",
    "- Often used either as a form of *automated data analysis* or *automated signal extraction*  \n",
    "- **Unlabeled** data has no **predetermined** *correct answer*  \n",
    "- The algorithm directly learn patterns from the data\n",
    "\n",
    "#### Clustering\n",
    "Finding groups within your data"
   ]
  },
  {
   "cell_type": "markdown",
   "metadata": {},
   "source": [
    "# Chapter 2 - Exploratory Analysis\n",
    "**Get to know the dataset**  \n",
    "- Gain valuable hints for *Data Cleaning*  \n",
    "- Think of ideas for *Feature Engineering*  \n",
    "- Get the *feel* for the dataset, helping you communicate results and deliver greater impact  \n",
    "\n",
    "## Start with Basics\n",
    "Answer a set of basic questions about the dataset\n",
    "- How many observations do I have ?  \n",
    "- How many features ?  \n",
    "- What are the data types of my features ? (Numeric or Categorical)  \n",
    "- Do I have target variable ?  \n",
    "\n",
    "### Example observations\n",
    "**Display example observations** from the dataset to get the *feel* for the values of each feature."
   ]
  },
  {
   "cell_type": "code",
   "execution_count": 6,
   "metadata": {},
   "outputs": [
    {
     "data": {
      "text/html": [
       "<div>\n",
       "<style scoped>\n",
       "    .dataframe tbody tr th:only-of-type {\n",
       "        vertical-align: middle;\n",
       "    }\n",
       "\n",
       "    .dataframe tbody tr th {\n",
       "        vertical-align: top;\n",
       "    }\n",
       "\n",
       "    .dataframe thead th {\n",
       "        text-align: right;\n",
       "    }\n",
       "</style>\n",
       "<table border=\"1\" class=\"dataframe\">\n",
       "  <thead>\n",
       "    <tr style=\"text-align: right;\">\n",
       "      <th></th>\n",
       "      <th>sepal.length</th>\n",
       "      <th>sepal.width</th>\n",
       "      <th>petal.length</th>\n",
       "      <th>petal.width</th>\n",
       "      <th>variety</th>\n",
       "    </tr>\n",
       "  </thead>\n",
       "  <tbody>\n",
       "    <tr>\n",
       "      <th>27</th>\n",
       "      <td>5.2</td>\n",
       "      <td>3.5</td>\n",
       "      <td>1.5</td>\n",
       "      <td>0.2</td>\n",
       "      <td>Setosa</td>\n",
       "    </tr>\n",
       "    <tr>\n",
       "      <th>20</th>\n",
       "      <td>5.4</td>\n",
       "      <td>3.4</td>\n",
       "      <td>1.7</td>\n",
       "      <td>0.2</td>\n",
       "      <td>Setosa</td>\n",
       "    </tr>\n",
       "    <tr>\n",
       "      <th>105</th>\n",
       "      <td>7.6</td>\n",
       "      <td>3.0</td>\n",
       "      <td>6.6</td>\n",
       "      <td>2.1</td>\n",
       "      <td>Virginica</td>\n",
       "    </tr>\n",
       "    <tr>\n",
       "      <th>112</th>\n",
       "      <td>6.8</td>\n",
       "      <td>3.0</td>\n",
       "      <td>5.5</td>\n",
       "      <td>2.1</td>\n",
       "      <td>Virginica</td>\n",
       "    </tr>\n",
       "    <tr>\n",
       "      <th>56</th>\n",
       "      <td>6.3</td>\n",
       "      <td>3.3</td>\n",
       "      <td>4.7</td>\n",
       "      <td>1.6</td>\n",
       "      <td>Versicolor</td>\n",
       "    </tr>\n",
       "  </tbody>\n",
       "</table>\n",
       "</div>"
      ],
      "text/plain": [
       "     sepal.length  sepal.width  petal.length  petal.width     variety\n",
       "27            5.2          3.5           1.5          0.2      Setosa\n",
       "20            5.4          3.4           1.7          0.2      Setosa\n",
       "105           7.6          3.0           6.6          2.1   Virginica\n",
       "112           6.8          3.0           5.5          2.1   Virginica\n",
       "56            6.3          3.3           4.7          1.6  Versicolor"
      ]
     },
     "execution_count": 6,
     "metadata": {},
     "output_type": "execute_result"
    }
   ],
   "source": [
    "dataset.sample(n=5)"
   ]
  },
  {
   "cell_type": "markdown",
   "metadata": {},
   "source": [
    "Get a **Qualitative** ***feel*** for the dataset\n",
    "- Do the columns make sense ?  \n",
    "- Do the values in those columns make sense ?  \n",
    "- Are the values on the right scale ?  \n",
    "- Is **Missing data** going to be a big problem ?  \n",
    "\n",
    "## Plot Numerical Distributions\n",
    "Often, an **histogram** is enough to understand the distributions  \n",
    "\n",
    "Here are a few things to look out for :  \n",
    "- Distributions that are unexpected  \n",
    "- Potential outliers that don't make sense  \n",
    "- Features that should be binary  \n",
    "- Boundaries that don't make sense  \n",
    "- Potential measurement errors  "
   ]
  },
  {
   "cell_type": "code",
   "execution_count": 19,
   "metadata": {},
   "outputs": [
    {
     "data": {
      "image/png": "[encoded data removed]",
      "text/plain": [
       "<Figure size 432x288 with 1 Axes>"
      ]
     },
     "metadata": {
      "needs_background": "light"
     },
     "output_type": "display_data"
    },
    {
     "data": {
      "image/png": "[encoded data removed]",
      "text/plain": [
       "<Figure size 432x288 with 1 Axes>"
      ]
     },
     "metadata": {
      "needs_background": "light"
     },
     "output_type": "display_data"
    },
    {
     "data": {
      "image/png": "[encoded data removed]",
      "text/plain": [
       "<Figure size 432x288 with 1 Axes>"
      ]
     },
     "metadata": {
      "needs_background": "light"
     },
     "output_type": "display_data"
    },
    {
     "data": {
      "image/png": "[encoded data removed]",
      "text/plain": [
       "<Figure size 432x288 with 1 Axes>"
      ]
     },
     "metadata": {
      "needs_background": "light"
     },
     "output_type": "display_data"
    }
   ],
   "source": [
    "import matplotlib.pyplot as plt\n",
    "\n",
    "plt.hist(dataset.iloc[:, 0], color=\"green\")\n",
    "plt.title(\"Sepal Length\")\n",
    "plt.xlabel(\"Centimeter\")\n",
    "plt.ylabel(\"Count\")\n",
    "\n",
    "plt.show()\n",
    "\n",
    "plt.hist(dataset.iloc[:, 1], color=\"blue\")\n",
    "plt.title(\"Sepal Width\")\n",
    "plt.xlabel(\"Centimeter\")\n",
    "plt.ylabel(\"Count\")\n",
    "\n",
    "plt.show()\n",
    "\n",
    "plt.hist(dataset.iloc[:, 2], color=\"red\")\n",
    "plt.title(\"Petal Length\")\n",
    "plt.xlabel(\"Centimeter\")\n",
    "plt.ylabel(\"Count\")\n",
    "\n",
    "plt.show()\n",
    "\n",
    "plt.hist(dataset.iloc[:, 3], color=\"orange\")\n",
    "plt.title(\"Petal Length\")\n",
    "plt.xlabel(\"Centimeter\")\n",
    "plt.ylabel(\"Count\")\n",
    "\n",
    "plt.show()"
   ]
  },
  {
   "cell_type": "markdown",
   "metadata": {},
   "source": [
    "## Plot Categorical Distributions\n",
    "We can use **Bar plots** to visualize categorical features.  \n",
    "Look out for **Sparse classes**, which are classes that have a very small number of observations.\n"
   ]
  },
  {
   "cell_type": "code",
   "execution_count": 36,
   "metadata": {},
   "outputs": [
    {
     "data": {
      "image/png": "[encoded data removed]",
      "text/plain": [
       "<Figure size 432x288 with 1 Axes>"
      ]
     },
     "metadata": {
      "needs_background": "light"
     },
     "output_type": "display_data"
    }
   ],
   "source": [
    "plt.bar(dataset.iloc[:, 4], color=\"yellow\", height = 50)\n",
    "plt.show()"
   ]
  },
  {
   "cell_type": "markdown",
   "metadata": {},
   "source": [
    "## Plot Segmentations\n",
    "Powerful ways to observe the **relationship** between **categorical features** and **numeric features**\n",
    "### Box Plots"
   ]
  },
  {
   "cell_type": "code",
   "execution_count": 53,
   "metadata": {},
   "outputs": [
    {
     "data": {
      "image/png": "[encoded data removed]",
      "text/plain": [
       "<Figure size 432x288 with 1 Axes>"
      ]
     },
     "metadata": {
      "needs_background": "light"
     },
     "output_type": "display_data"
    }
   ],
   "source": [
    "data = [dataset.iloc[:, 0], dataset.iloc[:, 1], dataset.iloc[:, 2], dataset.iloc[:, 3]]\n",
    "plt.boxplot(data, vert=False)\n",
    "plt.yticks([1, 2, 3, 4], ['Sepal Length', 'Sepal Width', 'Petal Length', 'Petal Width'])\n",
    "plt.show()"
   ]
  },
  {
   "cell_type": "markdown",
   "metadata": {},
   "source": [
    "## Study Correlations\n",
    "Study the **relationships** between **numeric features** and **other numeric features**  \n",
    "\n",
    "**Correlation** is a value between -1 and 1 that represents how closely two features move in unison.  \n",
    "- **Positive** correlation : When one feature increases, the other one increases too  \n",
    "- **Negative** correlation : When one feature increses, the other one decreases  \n",
    "- Correlations near -1 or 1 indicated a strong relationship  \n",
    "- Those closer to 0 indicate a weak relationship  \n",
    "\n",
    "In general, we should look out for :  \n",
    "- Wich features are strongly correlated with the target variable\n",
    "- Are the **interesting or unexpected** strong correlations between other features"
   ]
  },
  {
   "cell_type": "code",
   "execution_count": 65,
   "metadata": {},
   "outputs": [
    {
     "data": {
      "text/plain": [
       "<matplotlib.axes._subplots.AxesSubplot at 0x115f8be80>"
      ]
     },
     "execution_count": 65,
     "metadata": {},
     "output_type": "execute_result"
    },
    {
     "data": {
      "image/png": "[encoded data removed]",
      "text/plain": [
       "<Figure size 432x288 with 2 Axes>"
      ]
     },
     "metadata": {},
     "output_type": "display_data"
    }
   ],
   "source": [
    "import seaborn as sns\n",
    "sns.set()\n",
    "\n",
    "sns.heatmap(dataset.iloc[:, 0:4])"
   ]
  },
  {
   "cell_type": "markdown",
   "metadata": {},
   "source": [
    "# Chapter 3 - Data Cleaning\n",
    "**Garbage in, Garbage out**  \n",
    "## Remove Unwanted Observations\n",
    "### Duplicate Obervations\n",
    "Frequently arise during data collection :  \n",
    "- Combine datasets from multiple places  \n",
    "- Scrape data  \n",
    "- Receive data from clients or other departments  \n",
    "\n",
    "### Irrelevant Observations\n",
    "Don't fit the **specific problem**\n",
    "\n",
    "## Fix Structural Errors\n",
    "**Structural errors** are errors involving **typos**, **inconsistent capitalization**, ...\n",
    "\n",
    "## Filter Unwanted Outliers\n",
    "**Outliers** can cause problems with certain type of models (ex : Linear Regression models are less robust to outliers).\n",
    "\n",
    "You need a **legitimate reason** to remove an outlier.\n",
    "\n",
    "## Handle Missing Data\n",
    "#### Dropping\n",
    "Remove observations that have missing values.  \n",
    "When you drop observations, you **drop information**.\n",
    "\n",
    "#### Imputing\n",
    "Replace missing values with substituted values based on other observations.  \n",
    "Value was originally missing but you filled it in, which always leads to a **loss in information**.\n",
    "\n",
    "### Missing categorical data\n",
    "**Label** missing data with the value 'Missing'.  \n",
    "- You’re essentially adding a new class for the feature.  \n",
    "- Tells the algorithm that the value was missing.  \n",
    "- Gets around the technical requirement for no missing values.  \n",
    "\n",
    "### Missing numeric data\n",
    "**Flag and fill** the values  \n",
    "1) Flag the observation with an indicator variable of missingness.  \n",
    "2) Fill the original missing value with 0 just to meet the technical requirement of no missing values.  \n",
    "Allows the algorithm to **estimate the optimal constant for missingness**, instead of just filling it in with the mean."
   ]
  },
  {
   "cell_type": "markdown",
   "metadata": {},
   "source": [
    "# Chapter 4 - Feature Engineering\n",
    "**Creating new input features** from your existing ones.\n",
    "- Isolate and highlight key information\n",
    "- Bring other people and your own **domain expertise**\n",
    "\n",
    "## Infuse Domain Knowledge\n",
    "You can often engineer informative features by tapping into your (or others) expertise about the domain.\n",
    "\n",
    "## Create Interaction Features\n",
    "Create any **interaction features** that make sense. These are combinations of two or more features.  \n",
    "**Interaction features** can be **products, sums** or **differences** between two features.  \n",
    "\n",
    "- Could I combine this information in any way that might be even more useful?\n",
    "\n",
    "## Combine Sparse Classes\n",
    "Group **similar classes**.  \n",
    "After combining sparse classes, we have fewer unique classes, but each one has more observations.  \n",
    "\n",
    "Often, an eyeball test is enough to decide if you want to group certain classes together.  \n",
    "\n",
    "## Add Dummy Variables\n",
    "Most machine learning algorithms cannot directly handle categorical features. Specifically, they cannot handle text values.  \n",
    "\n",
    "**Dummy Variables** are a set of binary variables that each represent a single class from a categorical feature.  \n",
    "\n",
    "Pass the technical requirements for algorithms.  \n",
    "\n",
    "## Remove Unused Features\n",
    "**Unused features** are those that don’t make sense to pass into our machine learning algorithms.  \n",
    "Examples include:\n",
    "- ID columns  \n",
    "- Features that wouldn't be available at the time of prediction  \n",
    "- Other text descriptions  \n",
    "\n",
    "**Redundant features** would typically be those that have been replaced by other features that you’ve added during feature engineering."
   ]
  },
  {
   "cell_type": "markdown",
   "metadata": {},
   "source": [
    "# Chapter 5 - Algorithm Selection\n",
    "## Why Linear Regression is Flawed \n",
    "![linear_regression](https://elitedatascience.com/wp-content/uploads/2017/02/noisy-sine-linear-regression.png)\n",
    "Simple linear regression models fit a *straight line* (technically a **hyperplane** depending on the number of features).  \n",
    "In practice, they **rarely perform well**.  \n",
    "\n",
    "Simple linear regression suffers from two major flaws:  \n",
    "1) It's prone to overfit with many input features.  \n",
    "2) It cannot easily express non-linear relationships.\n",
    "\n",
    "## Regularization in Machine Learning\n",
    "Regularization is a technique used to **prevent overfitting** by *artificially penalizing model coefficients*.  \n",
    "- It can discourage large coefficients (by dampening them).  \n",
    "- It can also remove features entirely (by setting their coefficients to 0).  \n",
    "- The *strength* of the penalty is tunable.  \n",
    "\n",
    "### Lasso Regression\n",
    "**L**east **A**bsolute **S**hrinkage and **S**election **O**perator.  \n",
    "- Penalizes the absolute size of coefficients.  \n",
    "- Leads to coefficients that can be exactly 0.  \n",
    "- Offers automatic feature selection because it can completely remove some features.  \n",
    "- The *strength* of the penalty should be tuned.  \n",
    "- A stronger penalty leads to more coefficients pushed to zero.  \n",
    "\n",
    "### Ridge Regression\n",
    "- Penalizes the squared size of coefficients.  \n",
    "- Leads to smaller coefficients, but it doesn't force them to 0.  \n",
    "- Ridge offers feature shrinkage.  \n",
    "- The *strength* of the penalty should be tuned.  \n",
    "- A stronger penalty leads to coefficients pushed closer to zero.  \n",
    "\n",
    "### Elastic-Net\n",
    "Elastic-Net is a compromise between Lasso and Ridge.  \n",
    "- Penalizes a mix of both absolute and squared size.  \n",
    "- The ratio of the two penalty types should be tuned.  \n",
    "- The overall strength should also be tuned.  \n",
    "\n",
    "## Decision Tree Algos\n",
    "Decision trees model data as a *tree* of hierarchical branches. They make branches until they reach *leaves* that represent predictions.  \n",
    "Due to their branching structure, decision trees can easily **model nonlinear relationships**.  \n",
    "\n",
    "Individual unconstrained decision trees are very **prone to being overfit**.\n",
    "\n",
    "## Tree Ensembles\n",
    "Ensembles are machine learning methods for **combining predictions from multiple separate models**.  \n",
    "\n",
    "### Bagging\n",
    "**Reduce the chance overfitting** complex models.  \n",
    "\n",
    "- It trains a large number of *strong* learners in parallel.  \n",
    "- A strong learner is a model that's relatively **unconstrained**.  \n",
    "- Bagging then combines all the strong learners together in order to *smooth out* their predictions.\n",
    "\n",
    "### Boosting\n",
    "**Improve the predictive flexibility** of simple models.  \n",
    "\n",
    "- It trains a large number of *weak* learners in sequence.  \n",
    "- A weak learner is a constrained model.  \n",
    "- Each one in the sequence focuses on **learning from the mistakes** of the one before it.  \n",
    "- Boosting then combines all the weak learners into a single strong learner.  \n",
    "\n",
    "### Random forests\n",
    "Random forests **train a large number of** ***strong*** **decision trees** and **combine their predictions** through bagging.  \n",
    "\n",
    "1) Each tree is only allowed to choose from a random subset of features to split on (leading to **feature selection**).  \n",
    "2) Each tree is only trained on a random subset of observations (**resampling**).  \n",
    "\n",
    "### Boosted trees\n",
    "Boosted trees **train a large number of** ***weak*** **decision trees** and **combine their predictions** through boosting.  \n",
    "- Each tree is allowed a maximum depth, which should be tuned.  \n",
    "- Each tree in the sequence tries to correct the prediction errors of the one before it.  "
   ]
  },
  {
   "cell_type": "markdown",
   "metadata": {},
   "source": [
    "# Chapter 6 - Model Training\n",
    "## Split dataset\n",
    "**Training sets** are used to fit and tune your models.  \n",
    "**Test sets** are put aside as *unseen data* to evaluate your models.  \n",
    "\n",
    "If the model performs very well on the training data but poorly on the test data, then it’s **overfit**.  \n",
    "\n",
    "## Hyperparameters\n",
    "### Model parameters\n",
    "Model parameters are learned attributes that **define individual models**.  \n",
    "- They can be **learned directly** from the training data  \n",
    "\n",
    "Example :\n",
    "- Regression coefficients\n",
    "- Decision Tree split locations\n",
    "\n",
    "### Hyperparameters\n",
    "Hyperparameters express ***higher-level*** **structural settings** for algorithms.  \n",
    "- They are **decided before fitting** the model because they **can't be learned from the data**.  \n",
    "\n",
    "Example :\n",
    "- Strength of the penalty used in regularized forest  \n",
    "- The number of trees to include in a random forest  \n",
    "\n",
    "## Cross-Validation\n",
    "Cross-validation is a method for **getting a reliable estimate** of model performance using only your training data.  \n",
    "### 10-Fold cross-validation\n",
    "Breaks your training data into 10 equal parts (or folds), essentially creating 10 miniature train/test splits.  \n",
    "\n",
    "1) Split your data into 10 equal parts.  \n",
    "2) Train your model on 9 folds.  \n",
    "3) Evaluate it on the 1 remaining \"hold-out\" fold.  \n",
    "4) Perform steps (2) and (3) 10 times, each time holding out a different fold.  \n",
    "5) Average the performance across all 10 hold-out folds.  \n",
    "\n",
    "The average performance across the 10 hold-out folds is your **final performance estimate**. (also called your **cross-validated score**)  \n",
    "\n",
    "## Fit and Tune Models\n",
    "Perform the **entire cross-validation loop** detailed above on **each set of hyperparameter values**."
   ]
  },
  {
   "cell_type": "raw",
   "metadata": {},
   "source": [
    "For each algorithm (i.e. regularized regression, random forest, etc.):\n",
    "  For each set of hyperparameter values to try:\n",
    "    Perform cross-validation using the training set.\n",
    "    Calculate cross-validated score."
   ]
  },
  {
   "cell_type": "markdown",
   "metadata": {},
   "source": [
    "We'll have a cross-validated score for each set of hyperparameter values, for each algorithm.  \n",
    "\n",
    "We'll **pick the best set** of hyperparameters within each algorithm.  "
   ]
  },
  {
   "cell_type": "raw",
   "metadata": {},
   "source": [
    "For each algorithm:\n",
    "  Keep the set of hyperparameter values with best cross-validated score.\n",
    "  Re-train the algorithm on the entire training set (without cross-validation)."
   ]
  },
  {
   "cell_type": "markdown",
   "metadata": {},
   "source": [
    "## Select Winning Model\n",
    "**Evaluate** each model and **pick** the best one.  \n",
    "\n",
    "Use **test set** to **estimate** each models performance.  \n",
    "\n",
    "**Performance metrics** :\n",
    "- For regression tasks, we recommend **Mean Squared Error (MSE)** or **Mean Absolute Error (MAE)**.  \n",
    "- For classification tasks, we recommend **Area Under ROC Curve (AUROC)**.  \n",
    "\n",
    "Use these questions to **help you pick** the winning model :  \n",
    "- Which model had the best performance on the test set? (**performance**)  \n",
    "- Does it perform well across various performance metrics? (**robustness**)  \n",
    "- Did it also have (one of) the best cross-validated scores from the training set? (**consistency**)  \n",
    "- Does it solve the original business problem? (**win condition**)  "
   ]
  },
  {
   "cell_type": "code",
   "execution_count": null,
   "metadata": {},
   "outputs": [],
   "source": []
  }
 ],
 "metadata": {
  "kernelspec": {
   "display_name": "Python 3",
   "language": "python",
   "name": "python3"
  },
  "language_info": {
   "codemirror_mode": {
    "name": "ipython",
    "version": 3
   },
   "file_extension": ".py",
   "mimetype": "text/x-python",
   "name": "python",
   "nbconvert_exporter": "python",
   "pygments_lexer": "ipython3",
   "version": "3.7.3"
  }
 },
 "nbformat": 4,
 "nbformat_minor": 2
}
