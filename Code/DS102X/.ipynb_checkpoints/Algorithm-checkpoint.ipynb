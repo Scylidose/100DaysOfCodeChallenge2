{
 "cells": [
  {
   "cell_type": "markdown",
   "metadata": {},
   "source": [
    "# Machine Learning for Data Science and Analytics\n",
    "\n",
    "# Algorithms 1\n",
    "\n",
    "\n",
    "An Algorithm is a method for **solving** a problem via a sequence of steps.\n",
    "\n",
    "## Tools to Analyse Algorithms\n",
    "\n",
    "**Measure** the running time as a function of **n**, the size of the input.  \n",
    "All *reasonable* operations take 'one' unit of time.  \n",
    "\n",
    "### Running time \n",
    "- Best case (*seldom used*)  \n",
    "- Average case (*used if we understand the average*)  \n",
    "- Worst case (*used most often*)  "
   ]
  },
  {
   "cell_type": "raw",
   "metadata": {},
   "source": [
    "input: A[n]\n",
    "for i = 1 to n\n",
    "    if A[i] == 7\n",
    "        for j = 1 to n\n",
    "            for k = 1 to n\n",
    "                print \"Hello\""
   ]
  },
  {
   "cell_type": "markdown",
   "metadata": {},
   "source": [
    "*Worst case :* O(n^3)  \n",
    "*Best case :* O(n)    \n",
    "\n",
    "#### How do we measure the running time\n",
    "We measure as a function of **n**, and ignore low order terms.  \n",
    "- 5n^3 + n - 6 => O(n^3)\n",
    "- 8nlog(n) - 60n => O(nlog(n))\n",
    "\n",
    "Terms order :  \n",
    "1 -> log(log(n)) -> log(n) -> log^2(n) -> **n** -> nlog(n) -> n^2 -> n^3 -> 2^n -> n!"
   ]
  },
  {
   "cell_type": "markdown",
   "metadata": {},
   "source": [
    "## Divide, Conquer and Combine\n",
    "- **D**ivide your problem into one or more pieces  \n",
    "- **C**onquer the pieces, by solving them recursively  \n",
    "- **C**ombine the pieces in some way  \n",
    "\n",
    "### Binary Search\n",
    "**Problem :** You are thinking of an integer between **1 and n**. I have to guess it  \n",
    "**Strategy :** Keep eliminating half of the numbers  \n"
   ]
  },
  {
   "cell_type": "raw",
   "metadata": {},
   "source": [
    "Guess(low, high)\n",
    "if low == high\n",
    "    return low\n",
    "else \n",
    "    mid = ⌊(low + high)/2⌋\n",
    "    Ask \"Is the number bigger than mid ?\" DIVIDE\n",
    "    if answer == yes\n",
    "        Guess(mid+1, high) CONQUER\n",
    "    else\n",
    "        Guess(low, mid) CONQUER"
   ]
  },
  {
   "cell_type": "markdown",
   "metadata": {},
   "source": [
    "How many times can you halve a number n before you reach 1 ?  \n",
    "**log^2(n)**"
   ]
  },
  {
   "cell_type": "markdown",
   "metadata": {},
   "source": [
    "### Sorting via Divide and Conquer\n",
    "#### Merge Sort\n",
    "**Merge** takes two sorted lists, one in A[p..q] and one in A[q+1..r] and merges them. **COMBINE**"
   ]
  },
  {
   "cell_type": "raw",
   "metadata": {},
   "source": [
    "Merge-Sort(A, p, r)\n",
    "if p < r\n",
    "     q = ⌊(p + r)/2⌋ DIVIDE\n",
    "     Merge-Sort(A, p, q) CONQUER\n",
    "     Mege-Sort(A, q+1, r) CONQUER\n",
    "     Merge(A, p, q, r) COMBINE"
   ]
  },
  {
   "cell_type": "markdown",
   "metadata": {},
   "source": [
    "- At each step, we split our problem into 2 problems of roughly equal size  \n",
    "- Imply an O(nlog(n)) time algorithm  "
   ]
  },
  {
   "cell_type": "markdown",
   "metadata": {},
   "source": [
    "## Randomization in Algorithms \n",
    "- Tool for designing good algorithms  \n",
    "- Two kinds of algorithms : \n",
    "    - **Las Vegas :** Always correct, running time is random  \n",
    "    - **Monte Carlo :** May return incorrect answers, running time is deterministic  \n",
    "\n",
    "### Recursive Strategy\n",
    "- Pick an element to be the **pivot p**  \n",
    "- Split the items into 2 sets :  \n",
    "    - **L :** Set of items less than or equal to the pivot  \n",
    "    - **H :** Set of items greater than the pivot  \n",
    "\n",
    "**Question :** How do we pick our pivot so that the split is roughly equal ?  \n",
    "**Pick it randomly**  \n"
   ]
  },
  {
   "cell_type": "raw",
   "metadata": {},
   "source": [
    "Select(A, i, n)\n",
    "if n = 1\n",
    "    return A[1]\n",
    "\n",
    "p = A[Random(1, n)]\n",
    "\n",
    "L = {x ∈ A : z <= p}\n",
    "H = {x ∈ A : z > p}\n",
    "\n",
    "if i <= |L|\n",
    "    Select(L, i, |L|)\n",
    "else\n",
    "    Select(H, i - |L|, |H|)"
   ]
  },
  {
   "cell_type": "markdown",
   "metadata": {},
   "source": [
    "### Randomized Sorting  \n",
    "**Quicksort**  \n",
    "- Pick an element to be the **pivot p**  \n",
    "- Split the items into 2 sets :  \n",
    "    - **L :** Set of items less than or equal to the pivot  \n",
    "    - **H :** Set of items greater than the pivot  \n",
    "\n",
    "- Recurse on each set, and then just concatenate the solutions"
   ]
  },
  {
   "cell_type": "markdown",
   "metadata": {},
   "source": [
    "## Application Area : Scheduling \n",
    "\n",
    "### Scheduling\n",
    "**Allocation** of resources to **tasks** over time.  \n",
    "- Arises in a diverse set of application areas  \n",
    "\n",
    "#### Problems Examples \n",
    "- Scheduling computational jobs in a data center.  \n",
    "- Scheduling computational jobs on your phone.  \n",
    "- Scheduling courses at a university.  \n",
    "- Scheduling crews on an airline.  \n",
    "- ...  \n",
    "\n",
    "### Modeling Scheduling Problems \n",
    "##### Describe the machines\n",
    "- 1 machine  \n",
    "- **m** identical machine  \n",
    "- Many machines of many different types  \n",
    "- ...  \n",
    "\n",
    "##### Describe the jobs \n",
    "- **n** jobs that all require one unit of processing  \n",
    "- **n** jobs with different processing times that arrive over the course of the day  \n",
    "- **n** jobs that have precedence constraints between them and that can be preempted  \n",
    "- **n** each with a processing time and a deadline, and cannot be preempted  \n",
    "- ...  \n",
    "\n",
    "##### Describe the primary objective \n",
    "- Finish the set of jobs as early as possible  \n",
    "- Finish each job by its deadline  \n",
    "- Minimize the average response time of a job  \n",
    "- ...  \n",
    "\n",
    "#### Having better Scheduling\n",
    "##### Run Shorter Job First \n",
    "- Efficient  \n",
    "- Involves *sorting* and *selecting* the smallest item from a set  \n",
    "- It's a **greedy algorithm**, making the **i th** decision without considering future decisions  \n",
    "\n",
    "#### Earliest Deadline First\n",
    "- Scheduling meeting all deadlines, the algorithm meets all deadlines  \n",
    "- Let's you know when you can't schedule (*verification*)"
   ]
  },
  {
   "cell_type": "markdown",
   "metadata": {},
   "source": [
    "# Algorithms 2\n",
    "## Graphs\n",
    "Tool for **modeling** many problems.  \n",
    "Graphs consist of V vertices (*nodes*) and E edges (*arcs*)  \n",
    "Two types of graphs :  \n",
    "- Directed : The edges have a direction associated with them  \n",
    "- Undirected : All the edges are bidirectional  \n",
    "\n",
    "\n",
    "![sparse vs dense](http://www.mcihanozer.com/wp-content/uploads/Screen-Shot-2018-05-11-at-14.20.24-300x139.png)\n",
    "\n",
    "#### Dense Graph\n",
    "A graph in which the **number** of edges is **close to the maximal** number of edges.\n",
    "\n",
    "- A 10^6 node dense graph may have 10^11 edges  \n",
    "\n",
    "#### Sparse Graph\n",
    "A graph in which the **number** of edges is **much less** than the possible number of edges.  \n",
    "\n",
    "- A 10^6 node sparse graph may have 3x10^6 edges  \n",
    "- It is **better** to model with sparse graphs  \n",
    "\n",
    "- Examples : \n",
    "    - Road networks  \n",
    "    - Internet  \n",
    "    - Social Networks  \n",
    "\n",
    "### Searching a graph\n",
    "- We would like to do this in time linear in the size of the graph => O(V + E)  \n",
    "- Two standard algorithms :  \n",
    "    - Breadth first search  \n",
    "    - Depth first seach  \n",
    "    \n",
    "#### Breadth First Search\n",
    "- Use a **queue** (*FIFO*) to keep track of nodes we have visited but not processed.  \n",
    "- **Remove** a node from the head of the queue and **visit** it's neighbors, putting **new** nodes on the queue.  \n",
    "- Keep track of **distances** (length of the shortest path)  \n",
    "\n",
    "#### Depth First Search\n",
    "- Explores **as far as possible** along each branch before backtracking.  \n",
    "- At each node c, the algorithm checks whether c can be completed to a valid solution.  \n",
    "\n",
    "![bfs vs dfs](https://www.freelancinggig.com/blog/wp-content/uploads/2019/02/BFS-and-DFS-Algorithms.png)\n",
    "\n",
    "\n",
    "#### Topological Sort\n",
    "- Given a *DAG* (Directed Acyclic Graph), we want to come up with an ordering of the nodes that is consistent with the arcs.  \n",
    "- Nodes = tasks  \n",
    "- Edges = Precedence relations  \n",
    "- **Algorithm :** Repeatedly find a node with no incoming edges. Remove it and its edges.  \n",
    "\n",
    "![topological](https://i.ytimg.com/vi/rSCR8r2aNA8/maxresdefault.jpg)"
   ]
  },
  {
   "cell_type": "markdown",
   "metadata": {},
   "source": [
    "### Map Searches\n",
    "\n",
    "#### Basic shortest paths\n",
    "(with non-negative edge weights)  \n",
    "\n",
    "- **Input :** Weighted, directed graph G - (V, E), with weight function w: E -> R  \n",
    "- The **weight** of path p -< v0, v1, ..., vk > is the sum of the weights of its connstituent edges :  \n",
    "    - w(p) = ∑ w(v(i-1), v(i))  \n",
    "- The **shortest-path weight** from u to v :  \n",
    "    - δ(u, v) = min{w(p)} **if there is a path p from u to v**  \n",
    "    - δ(u, v) = ∞ **otherwise**  \n",
    "- A **shortest path** from node u to node v is then defined as any path *p* with weight w(p) = δ(u, v)  \n",
    "- We typically compute shortest paths from *s* to all other nodes.  \n",
    "![bsp](https://algs4.cs.princeton.edu/44sp/images/shortest-path.png)\n",
    "\n",
    "#### Dijkstra's Algorithm\n",
    "- Explore nodes in increasing order of distance  \n",
    "- Need the right data structures to keep explore graph efficiently  \n",
    "- Will repeatedly  \n",
    "    - Permanently label the unlabeled node closest to the source  \n",
    "    - Update the temporary labels of neighboring nodes"
   ]
  },
  {
   "cell_type": "raw",
   "metadata": {},
   "source": [
    "function Dijkstra(Graph, source):\n",
    "    create vertex set Q\n",
    "    \n",
    "    for each vertex v in Graph:             \n",
    "        dist[v] ← INFINITY                  \n",
    "        prev[v] ← UNDEFINED                 \n",
    "        add v to Q                      \n",
    "    dist[source] ← 0                        \n",
    "\n",
    "    while Q is not empty:\n",
    "        u ← vertex in Q with min dist[u]    \n",
    "        remove u from Q \n",
    "\n",
    "        for each neighbor v of u:           // only v that are still in Q\n",
    "            alt ← dist[u] + length(u, v)\n",
    "            if alt < dist[v]:               \n",
    "                dist[v] ← alt \n",
    "                prev[v] ← u \n",
    "\n",
    "    return dist[], prev[]"
   ]
  },
  {
   "cell_type": "markdown",
   "metadata": {},
   "source": [
    "![dijkstra](https://upload.wikimedia.org/wikipedia/commons/5/57/Dijkstra_Animation.gif)"
   ]
  },
  {
   "cell_type": "markdown",
   "metadata": {},
   "source": [
    "- Not fast enough  \n",
    "- People want *real time*  "
   ]
  },
  {
   "cell_type": "markdown",
   "metadata": {},
   "source": [
    "#### Rough Calculation\n",
    "- To explore a distance of **r**, we have to explore an area proportional to **r^2**  \n",
    "- Searching a graph with a size of **r^2**  \n",
    "- If we do 2 searches that meet after about **r/2**, then each one is exploring an area proportional to **r^2/4**, and since there are two of them, you explore a total area proportional to **2.r^2/4 = r^2/2  \n",
    "\n",
    "#### Triangle Inequality  \n",
    "\n",
    "For any triangle, the sum of the lengths of any two sides must be greater than or equal to the length of the remaining side  \n",
    "\n",
    "##### Prune your search  \n",
    "- Want to know when you have **strayed too far** from a potential shortest path, without knowing that shortest path.  \n",
    "- We'll **pre-compute** a small number of values, and use them to **prune** the search  \n",
    "- **Recall** the triangle inequality  \n",
    "\n",
    "##### Help the search\n",
    "- Pick a small number of *landmark points*  \n",
    "- For every point **pre-compute** the distance from the point to all landmark points  \n",
    "- **Recall**, can't compute all pairs of 10 million points, but can **compute and store**, for each of the 10 million points, the distance to 100 landmarks points  \n",
    "- **Use** the triangle inequality\n"
   ]
  },
  {
   "cell_type": "markdown",
   "metadata": {},
   "source": [
    "### Dictionaries and Hashing\n",
    "#### Trivial Approaches\n",
    "- We have an array which is indexed by the elements of the universe.  \n",
    "- **Array A[.] of size |U|**, where A[X] = 1 if x ∈ S, and A[X] = 0 otherwise  \n",
    "- **Time :** Contant (O(1)) for all operations  \n",
    "- **Problem :** Universe U is usually huge, |U| >> |S|  \n",
    "\n",
    "#### Hashing\n",
    "- Map large universe U to small set M  \n",
    "- into a very small set  \n",
    "- We then map our set S. The subset S will be mapped to the subset of the little set M  \n",
    "- Transferred our set S to a smaller set h of S in a smaller universe  \n",
    "![hashing](https://kindsonthegenius.com/wp-content/uploads/2019/01/Hashing-1024x505.jpg)  \n",
    "\n",
    "##### Hashing function\n",
    "- Map arbitrary universe into integers and then map integers to M={1, ..., m}  \n",
    "- For example :  \n",
    "    - strings: w = c0c1...ck  \n",
    "    - Each character ci -> number di  \n",
    "    - w -> ∑di.r^2 for some r  \n",
    "\n",
    "### Search Trees\n",
    "#### Ordered Universe\n",
    "- Maintain set S of elements drawn from a universe U with order under the usual Dictionary opetations (**Search, Insert, Delete**) and additional operations (*queries*) that reflect the order :  \n",
    "    - **Successor, Predecessor**  \n",
    "    - **Minimum, Maximum**  \n",
    "    - **Median, Quantiles**  \n",
    "    - **Rank**  \n",
    "\n",
    "#### Binary Search Tree\n",
    "Internal nodes each store a key (and optionally, an associated value) and each have two distinguished sub-trees, commonly denoted *left* and *right*.  "
   ]
  },
  {
   "cell_type": "raw",
   "metadata": {},
   "source": [
    "def search_recursively(key, node):\n",
    "    if node is None or node.key == key:\n",
    "        return node\n",
    "    if key < node.key:\n",
    "        return search_recursively(key, node.left)\n",
    "    # key > node.key\n",
    "    return search_recursively(key, node.right)"
   ]
  },
  {
   "cell_type": "markdown",
   "metadata": {},
   "source": [
    "![bst](https://cdn-images-1.medium.com/max/1600/1*OmRV7P0YluY2ToRj44jKGA.gif)"
   ]
  },
  {
   "cell_type": "markdown",
   "metadata": {},
   "source": [
    "##### Insertion in a Binary Search Tree\n",
    "- Seach for x, and when note found, add it in a new leaf  \n",
    "\n",
    "##### Balanced Binary Search Tree \n",
    "- If BST close to a full binary tree, then heigh = log(n)  \n",
    "- If elements inserted in S in arbitrary order then BST can get very unbalanced  \n",
    "![restruct_bst](https://slideplayer.com/slide/12892251/78/images/19/Restructuring+%28as+Single+Rotations%29.jpg)"
   ]
  },
  {
   "cell_type": "markdown",
   "metadata": {},
   "source": [
    "### Dynamic Programming\n",
    "#### Main Ingredients\n",
    "- Problem reduces to simpler/smaller subproblems  \n",
    "- In **optimization problems :** Optimal solution to whole problem uses optimal solutions for subproblems (**Principle of optimality**)  \n",
    "- Subproblems solved from smaller to larger and results tabulated (**Memoization**)\n",
    "\n",
    "#### Longest Common Subsequence Problem\n",
    "- Given two sequences X = x1, ..., xm; Y = y1, ..., yn find longest common subsequence  \n",
    "- Example :  \n",
    "    - X = ABCBDAB; Y = BDCABA\n",
    "    - One longest common subsequences is *BCBA*  \n",
    "    \n",
    "#### Reducing to Subproblems \n",
    "- In a *longest common sequence* S of X, Y\n",
    "    1) Either xm is not in S and S is lcs of x1, ..., x(m-1); y1, ..., yn  \n",
    "    2) or yn is not in S and S is lcs of x1, ..., xm; y1, ..., y(n-1)\n",
    "    3) or xm = yn is in S, in which case S consists of lcs of x1, ..., x(m-1); y1, ..., y(n-1) and xm = yn  \n",
    "- If we know the lcs for the smaller problems in cases 1-3, we can compute the lcs of X, Y\n",
    "\n",
    "#### Recurrence\n",
    "- For i <= m, j <= n, let c[i, j] = length of lcs of prefixes Xi = x1, ..., xi; Yj = y1, ..., yj\n",
    "    - c[i, j] = max{c[i-1, j], c[i, j-1]} if xi != yj\n",
    "    - = max{c[i-1, j], c[i, j-1], c[i-1, j-1]+1} if xi = yj  \n",
    "- **Evaluate the recurrences bottom-up, in an order consistent with the dependencies**  \n",
    "\n",
    "- Time complexity : O(mn)  \n",
    "- Space complexity : O(mn) But can be reduced to O(m+n)"
   ]
  },
  {
   "cell_type": "markdown",
   "metadata": {},
   "source": [
    "# Algorithms 3"
   ]
  },
  {
   "cell_type": "markdown",
   "metadata": {},
   "source": [
    "## Linear Programming\n",
    "Given set of variables, we want to assign real values to then to :  \n",
    "1) Satisfy a given set of linear equations and inequalities in the variables.  \n",
    "2) Maximize or minimize a given linear function of the variables.  \n",
    "\n",
    "#### Applications \n",
    "- Manufacturing, Marketing, Finance, Trandportation, Telecommunications, ...  \n",
    "- Optimal allocation of ressources to satisfy constraints and maximize profit or minimize cost  \n",
    "- Can be used also to model many optimization problems in various areas  \n",
    "\n",
    "Geometrically, the linear constraints define the **feasible region**, which is a **convex polyhedron**.  \n",
    "A linear function is a convex function, which implies that **every local minimum is a global minimum**; similarly, a linear function is a concave function, which implies that **every local maximum is a global maximum**.  \n",
    "\n",
    "![linear_prog](https://upload.wikimedia.org/wikipedia/commons/thumb/0/0c/Linear_Programming_Feasible_Region.svg/500px-Linear_Programming_Feasible_Region.svg.png)\n",
    "\n",
    "An optimal solution need **not exist**, for two reasons :  \n",
    "- First, if two constraints are **inconsistent**, then no feasible solution exists: For instance, the constraints x ≥ 2 and x ≤ 1 cannot be satisfied jointly; in this case, we say that the **LP is infeasible**.  \n",
    "- Second, when the polytope is **unbounded in the direction of the gradient** of the objective function (where the gradient of the objective function is the vector of the coefficients of the objective function), then no optimal value is attained because it is always possible to do better than any finite value of the objective function.  \n",
    "\n",
    "If a feasible solution **exists** and if the **constraint set is bounded** :  \n",
    "- The optimum value is always attained on the **boundary of the constraint set**, by the maximum principle for convex functions (alternatively, by the minimum principle for concave functions) since linear functions are both convex and concave.  \n",
    "- Some problems have **distinct optimal solutions**; for example, the problem of finding a feasible solution to a system of linear inequalities is a linear programming problem in which the objective function is the **zero function** (that is, the constant function taking the value zero everywhere). For this feasibility problem with the zero-function for its objective-function, if there are **two distinct solutions**, then every convex combination of the solutions is a **solution**.  \n",
    "\n",
    "### Algorithms for Linear Programming\n",
    "- **Simplex :**  \n",
    "    - Starts at a node and keeps moving to better adjacent node until it reaches an optimum.  \n",
    "- **Interior Point Methods :**  \n",
    "    - Class of algorithms that solve linear and nonlinear convex optimization problems.  \n",
    "\n",
    "#### Fitting a line to points\n",
    "Given points (xi, yi) on plane find a line y = ax+b of best fit :  \n",
    "- Minimize least square error ∑(a.xi + b - yi)^2  \n",
    "- Minimize sum of absolute errors ∑|a.xi + b - yi|  \n",
    "\n",
    "<img src=\"https://dr282zn36sxxg.cloudfront.net/datastreams/f-d%3Aa22bcefe5d451c867898ecb37f4fc4f303fabcd50fb76b9dc171fad4%2BIMAGE%2BIMAGE.1\" alt=\"fitting_line\" width=\"350\"/>\n",
    "\n"
   ]
  },
  {
   "cell_type": "markdown",
   "metadata": {},
   "source": [
    "## NP-completeness\n",
    "When a problem can be solved by a restricted class of **brute force search** algorithms and it can be used to **simulate any other problem** with a **similar algorithm**.  \n",
    "\n",
    "#### Examples\n",
    "- **Maximum Clique :** Given a graph, find a maximum clique : set of pairwise adjacent nodes.  \n",
    "- **Maximum Independent Set :** Given a graph, find maximum number of nonadjacent nodes.  \n",
    "\n",
    "\n",
    "- Problems can be related by reductions.  \n",
    "**Reduction** from decision problem A to problem B is a **polynomial time** algorithm R that maps every instance x of A to an instance R(x) of B such that :  \n",
    "    - yes/no answer for x in A = answer for R(X) in B  \n",
    "- If A <=(p) B and B is in P, then A also in P  \n",
    "- If A <=(p) B and A is not in P, then B is not in P  \n",
    "\n",
    "A problem B is **NP-hard** if every problem in NP reduces to B.  \n",
    "A problem B is **NP-complete** if it is in NP and it is NP-hard.  \n",
    "\n",
    "<img src=\"https://upload.wikimedia.org/wikipedia/commons/thumb/a/a0/P_np_np-complete_np-hard.svg/1920px-P_np_np-complete_np-hard.svg.png\" alt=\"np and p\" width=\"350\"/>  \n",
    "\n",
    "## Coping with NP-completeness\n",
    "\n",
    "### Easier Cases\n",
    "- Identify special cases (restricted classes of inputs) for which the problem can be solved efficiently.  \n",
    "- Example :  \n",
    "    - Max Independent Set in bipartite graphs.  \n",
    "    - Subclasses of Integer Linear Programs.  \n",
    "\n",
    "#### Better Exponential Algorithms \n",
    "- Techniques that improve on brute-force search and reduce the cases for which the algorithm takes exponential time.  \n",
    "- Example :  \n",
    "    - Better SAT solvers  \n",
    "    - Better ILP solvers  \n",
    "    - Polyhedral combinatorics methods  \n",
    "    \n",
    "#### Approximation Algorithms \n",
    "- Algorithms that find a solution which is close to optimal.  \n",
    "\n",
    "#### Heuristic Algorithms\n",
    "- Algorithms that work often well in practice, although they may not provide theoretical guarantees.  \n",
    "    - Local Search  \n",
    "    - Simulated Annealing  "
   ]
  }
 ],
 "metadata": {
  "kernelspec": {
   "display_name": "Python 3",
   "language": "python",
   "name": "python3"
  },
  "language_info": {
   "codemirror_mode": {
    "name": "ipython",
    "version": 3
   },
   "file_extension": ".py",
   "mimetype": "text/x-python",
   "name": "python",
   "nbconvert_exporter": "python",
   "pygments_lexer": "ipython3",
   "version": "3.7.3"
  }
 },
 "nbformat": 4,
 "nbformat_minor": 2
}
