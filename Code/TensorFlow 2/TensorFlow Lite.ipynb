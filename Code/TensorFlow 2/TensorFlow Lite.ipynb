{
 "cells": [
  {
   "cell_type": "markdown",
   "metadata": {},
   "source": [
    "# TensorFlow Lite\n",
    "Provides machine learning solution to mobile with low latency and small binary size.  \n",
    "\n",
    "## Architecture \n",
    "\n",
    "![architecture](https://miro.medium.com/max/1260/0*gHByLYl8P5j_MdGj.png)\n",
    "\n",
    "## Model Optimization\n",
    "- Optimize model topology :  \n",
    "    - Faster network  \n",
    "    - Smaller  \n",
    "    - Less fully connected  \n",
    "    - ...  \n",
    "- Reduce network parameters precision with quantization  \n",
    "    - Pre-training quantization  \n",
    "    - Post-training quantization  \n",
    "- Reduce parameter count\n"
   ]
  }
 ],
 "metadata": {
  "kernelspec": {
   "display_name": "Python 3",
   "language": "python",
   "name": "python3"
  },
  "language_info": {
   "codemirror_mode": {
    "name": "ipython",
    "version": 3
   },
   "file_extension": ".py",
   "mimetype": "text/x-python",
   "name": "python",
   "nbconvert_exporter": "python",
   "pygments_lexer": "ipython3",
   "version": "3.7.3"
  }
 },
 "nbformat": 4,
 "nbformat_minor": 2
}
