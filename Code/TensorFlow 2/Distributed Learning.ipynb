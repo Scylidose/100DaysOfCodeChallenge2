{
 "cells": [
  {
   "cell_type": "markdown",
   "metadata": {},
   "source": [
    "# Distributed Learning\n",
    "\n",
    "Training a model could take days or weeks.  \n",
    "\n",
    "Help to decrease the training time as much as possible having multiple GPU at our disposal.\n",
    "\n",
    "## Synchronous\n",
    "\n",
    "Train models on the different parts of the data set at the same time and at the end of one epoch those gradients are aggregated and use to update one model.\n",
    "\n",
    "## Asynchronous\n",
    "\n",
    "All workers are training at the same time independently and updating wait asynchronously.  \n",
    "\n",
    "## Strategies\n",
    "\n",
    "### Mirrored Strategy\n",
    "\n",
    "Supports synchronous distributed training on multiple GPUs on one machine. It creates one replica per GPU device. Each variable in the model is mirrored across all the replicas.\n",
    "\n",
    "![mirrored strategy](https://i.imgur.com/hwevJda.png)\n",
    "\n",
    "### Multi-Workers Mirrored Strategy\n",
    "\n",
    "Implements synchronous distributed training across multiple workers, each with potentially multiple GPUs. Similar to MirroredStrategy, it creates copies of all variables in the model on each device across all workers.\n",
    "\n",
    "![MW mirrored strategy](https://i.imgur.com/appcSud.png)\n",
    "\n",
    "### TPU Strategy\n",
    "\n",
    "Lets users run their TensorFlow training on **Tensor Processing Units** (TPUs). TPUs are Google's specialized ASICs designed to dramatically accelerate machine learning workloads.  \n",
    "\n",
    "### ParameterServerStrategy\n",
    "\n",
    "Supports parameter servers training on multiple machines. In this setup, some machines are designated as workers and some as parameter servers. Each variable of the model is placed on one parameter server. Computation is replicated across all GPUs of all the workers.  "
   ]
  }
 ],
 "metadata": {
  "kernelspec": {
   "display_name": "Python 3",
   "language": "python",
   "name": "python3"
  },
  "language_info": {
   "codemirror_mode": {
    "name": "ipython",
    "version": 3
   },
   "file_extension": ".py",
   "mimetype": "text/x-python",
   "name": "python",
   "nbconvert_exporter": "python",
   "pygments_lexer": "ipython3",
   "version": "3.7.3"
  }
 },
 "nbformat": 4,
 "nbformat_minor": 2
}
