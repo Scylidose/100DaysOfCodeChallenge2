{
 "cells": [
  {
   "cell_type": "markdown",
   "metadata": {},
   "source": [
    "# TensorFlow Serving\n",
    "\n",
    "## Definition \n",
    "TensorFlow Serving is a **flexible, high-performance serving system** for machine learning models, designed for **production environments**. TensorFlow Serving makes it **easy to deploy** new algorithms and experiments, while keeping the **same** server architecture and APIs. TensorFlow Serving provides out-of-the-box integration with TensorFlow models, but can be easily extended to serve other types of models and data.\n",
    "\n",
    "\n",
    "## Architecture \n",
    "\n",
    "![TFS architecture](https://i.imgur.com/MjZpgoD.png)\n",
    "\n",
    "![TF_Client](https://miro.medium.com/max/1260/1*cntKPCdIsck5ia2jDrhg9w.png)\n",
    "\n",
    "![TFS_Client](https://miro.medium.com/max/1260/1*_he_ZzlF7qm3kHU2fwXO6Q.png)\n",
    "\n",
    "### Adventages\n",
    "- Scalability  \n",
    "- Low-latency  \n",
    "- Handles multiple models  \n",
    "- Handels multiple versions of the same model  \n"
   ]
  }
 ],
 "metadata": {
  "kernelspec": {
   "display_name": "Python 3",
   "language": "python",
   "name": "python3"
  },
  "language_info": {
   "codemirror_mode": {
    "name": "ipython",
    "version": 3
   },
   "file_extension": ".py",
   "mimetype": "text/x-python",
   "name": "python",
   "nbconvert_exporter": "python",
   "pygments_lexer": "ipython3",
   "version": "3.7.3"
  }
 },
 "nbformat": 4,
 "nbformat_minor": 2
}
