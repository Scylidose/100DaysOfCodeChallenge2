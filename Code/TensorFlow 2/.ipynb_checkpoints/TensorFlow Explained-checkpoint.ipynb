{
 "cells": [
  {
   "cell_type": "markdown",
   "metadata": {},
   "source": [
    "# TensorFlow Tutorial For Beginners"
   ]
  },
  {
   "cell_type": "markdown",
   "metadata": {},
   "source": [
    "## Plane Vectors\n",
    "Vectors are scalar magnitudes that have been given a direction (**direction and length**).  \n",
    "\n",
    "![vector](https://s3.amazonaws.com/assets.datacamp.com/blog_assets/TensorFlow+Tutorial/content_plane_vector.png)\n",
    "\n",
    "Vectors are represented on the coordinate plane, but in essence, you have these vectors so that you can **perform operations** on them and one thing that can help you in doing this is by expressing your vectors as bases or unit vectors.  \n",
    "\n",
    "- **Unit vectors** are vectors with a magnitude of one.  \n",
    "    - The unit vector is represented by a lowercase letter with a circumflex, or *hat*.  \n",
    "    - Unit vectors will come in convenient if you want to express a 2-D or 3-D vector as a sum of two or three orthogonal components, such as the x− and y−axes, or the z−axis.  \n"
   ]
  },
  {
   "cell_type": "markdown",
   "metadata": {},
   "source": [
    "\n",
    "## Tensors\n",
    "A **tensor** is a generalization of vectors and matrices and is easily understood as a **multidimensional array**.  \n",
    "\n",
    "A *vector* is a one-dimensional or first order tensor and a *matrix* is a two-dimensional or second order tensor.  \n",
    "\n",
    "Tensor notation is much like **matrix notation** with a capital letter representing a tensor and lowercase letters with subscript integers representing scalar values within the tensor.  "
   ]
  },
  {
   "cell_type": "raw",
   "metadata": {},
   "source": [
    "     t111, t121, t131     t112, t122, t132     t113, t123, t133\n",
    "T = (t211, t221, t231),  (t212, t222, t232),  (t213, t223, t233)\n",
    "     t311, t321, t331     t312, t322, t332     t313, t323, t333"
   ]
  },
  {
   "cell_type": "markdown",
   "metadata": {},
   "source": [
    "Many of the operations that can be performed with scalars, vectors, and matrices can be reformulated to be performed with tensors.\n"
   ]
  },
  {
   "cell_type": "markdown",
   "metadata": {},
   "source": [
    "## Basics of TensorFlow 2.0\n"
   ]
  },
  {
   "cell_type": "markdown",
   "metadata": {},
   "source": [
    "## Python\n",
    "### Variables \n",
    "\n",
    "Tensors can be represented in Python using the **N-dimensional array** (ndarray)."
   ]
  },
  {
   "cell_type": "code",
   "execution_count": 4,
   "metadata": {},
   "outputs": [],
   "source": [
    "# create tensor\n",
    "from numpy import array\n",
    "T = array([\n",
    "  [[1,2,3],    [4,5,6],    [7,8,9]],\n",
    "  [[11,12,13], [14,15,16], [17,18,19]],\n",
    "  [[21,22,23], [24,25,26], [27,28,29]],\n",
    "  ])"
   ]
  },
  {
   "cell_type": "markdown",
   "metadata": {},
   "source": [
    "Tensors can also be created with the **tensorflow library**."
   ]
  },
  {
   "cell_type": "code",
   "execution_count": null,
   "metadata": {},
   "outputs": [],
   "source": [
    "# Import `tensorflow`\n",
    "import tensorflow as tf\n",
    "\n",
    "# Initialize two constants\n",
    "x1 = tf.constant([1,2,3,4])\n",
    "x2 = tf.constant([5,6,7,8])\n",
    "\n",
    "# Multiply\n",
    "result = tf.multiply(x1, x2)\n",
    "\n",
    "# Print the result\n",
    "print(result)"
   ]
  },
  {
   "cell_type": "markdown",
   "metadata": {},
   "source": [
    "There we create two constants, but you can also create other types of variables such as :  \n",
    "- **Placeholders** : Values that are unassigned and that will be initialized by the session when you run it.  \n",
    "- **Variables** : Values that can change, unlike the constants.  \n",
    "\n",
    "If we want to to see the result, we have to run the code in an **interactive session**."
   ]
  },
  {
   "cell_type": "code",
   "execution_count": null,
   "metadata": {},
   "outputs": [],
   "source": [
    "# Import `tensorflow` \n",
    "import tensorflow as tf\n",
    "\n",
    "# Initialize two constants\n",
    "x1 = tf.constant([1,2,3,4])\n",
    "x2 = tf.constant([5,6,7,8])\n",
    "\n",
    "# Multiply\n",
    "result = tf.multiply(x1, x2)\n",
    "\n",
    "# Intialize the Session\n",
    "sess = tf.Session()\n",
    "\n",
    "# Print the values of a constant\n",
    "print(x1.numpy())\n",
    "\n",
    "# Print the result\n",
    "print(sess.run(result))\n",
    "\n",
    "# Close the session\n",
    "sess.close()"
   ]
  },
  {
   "cell_type": "markdown",
   "metadata": {},
   "source": [
    "### Operations"
   ]
  },
  {
   "cell_type": "code",
   "execution_count": null,
   "metadata": {},
   "outputs": [],
   "source": [
    "tensor = tf.constant([[1, 2], [3, 4]])\n",
    "\n",
    "\n",
    "# Addition between tensor and scalar\n",
    "print(tensor + 2)\n",
    "# array([[2, 4], [5, 6]])\n",
    "\n",
    "\n",
    "# Multiply between tensor and scalar\n",
    "print(tensor * 2)\n",
    "# array([[1, 4], [6, 8]])\n",
    "\n",
    "\n",
    "# Getting the square root of all numbers \n",
    "np.sqrt(tensor)"
   ]
  },
  {
   "cell_type": "markdown",
   "metadata": {},
   "source": [
    "### Strings"
   ]
  },
  {
   "cell_type": "code",
   "execution_count": null,
   "metadata": {},
   "outputs": [],
   "source": [
    "tf_string = tf.constant(\"TensorFlow\")\n",
    "\n",
    "\n",
    "# Get length\n",
    "tf.strings.length(tf_string)\n",
    "# <tf.Tensor: id=49, shape=(), dtype=int32, numpy=10>\n",
    "\n",
    "\n",
    "# Transform string in unicode\n",
    "tf.strings.unicode_decode(tf_string, \"UTF8\")\n",
    "# <tf.Tensor: id=58, shape=(10,), dtype=int32,\n",
    "#    numpy=array([ 84, 101, 110, 115, 111, 114,  70, 108, 111, 119], dtype=int32)>"
   ]
  },
  {
   "cell_type": "markdown",
   "metadata": {},
   "source": [
    "### Sorting array of strings"
   ]
  },
  {
   "cell_type": "code",
   "execution_count": null,
   "metadata": {},
   "outputs": [],
   "source": [
    "tf_string_array = tf.constant([\"TensorFlow\", \"Deep Learning\", \"AI\"])\n",
    "\n",
    "\n",
    "# Iterating through the TF string array\n",
    "for string in tf_string_array:\n",
    "  print(string)\n",
    "\n",
    "# tf.Tensor(b'TensorFlow', shape=(), dtype=string)\n",
    "# tf.Tensor(b'Deep Learning', shape=(), dtype=string)\n",
    "# tf.Tensor(b'AI', shape=(), dtype=string)"
   ]
  }
 ],
 "metadata": {
  "kernelspec": {
   "display_name": "Python 3",
   "language": "python",
   "name": "python3"
  },
  "language_info": {
   "codemirror_mode": {
    "name": "ipython",
    "version": 3
   },
   "file_extension": ".py",
   "mimetype": "text/x-python",
   "name": "python",
   "nbconvert_exporter": "python",
   "pygments_lexer": "ipython3",
   "version": "3.7.3"
  }
 },
 "nbformat": 4,
 "nbformat_minor": 2
}
